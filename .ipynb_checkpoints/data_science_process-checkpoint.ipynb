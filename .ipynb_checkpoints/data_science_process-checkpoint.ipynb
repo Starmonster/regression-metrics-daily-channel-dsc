{
 "cells": [
  {
   "cell_type": "code",
   "execution_count": 13,
   "metadata": {},
   "outputs": [],
   "source": [
    "import numpy as np\n",
    "import pandas as pd"
   ]
  },
  {
   "cell_type": "markdown",
   "metadata": {},
   "source": [
    "# Problem Understanding"
   ]
  },
  {
   "cell_type": "markdown",
   "metadata": {},
   "source": [
    "Your Real Estate partner in California needs your help with pricing homes at the optimal level<br>\n",
    "\n",
    "Help them to predict the expected sale value of properties in their State and you will get slice of their additional sales commission 💸"
   ]
  },
  {
   "cell_type": "markdown",
   "metadata": {},
   "source": [
    "# Data Understanding"
   ]
  },
  {
   "cell_type": "code",
   "execution_count": 14,
   "metadata": {},
   "outputs": [
    {
     "name": "stdout",
     "output_type": "stream",
     "text": [
      ".. _california_housing_dataset:\n",
      "\n",
      "California Housing dataset\n",
      "--------------------------\n",
      "\n",
      "**Data Set Characteristics:**\n",
      "\n",
      "    :Number of Instances: 20640\n",
      "\n",
      "    :Number of Attributes: 8 numeric, predictive attributes and the target\n",
      "\n",
      "    :Attribute Information:\n",
      "        - MedInc        median income in block\n",
      "        - HouseAge      median house age in block\n",
      "        - AveRooms      average number of rooms\n",
      "        - AveBedrms     average number of bedrooms\n",
      "        - Population    block population\n",
      "        - AveOccup      average house occupancy\n",
      "        - Latitude      house block latitude\n",
      "        - Longitude     house block longitude\n",
      "\n",
      "    :Missing Attribute Values: None\n",
      "\n",
      "This dataset was obtained from the StatLib repository.\n",
      "http://lib.stat.cmu.edu/datasets/\n",
      "\n",
      "The target variable is the median house value for California districts.\n",
      "\n",
      "This dataset was derived from the 1990 U.S. census, using one row per census\n",
      "block group. A block group is the smallest geographical unit for which the U.S.\n",
      "Census Bureau publishes sample data (a block group typically has a population\n",
      "of 600 to 3,000 people).\n",
      "\n",
      "It can be downloaded/loaded using the\n",
      ":func:`sklearn.datasets.fetch_california_housing` function.\n",
      "\n",
      ".. topic:: References\n",
      "\n",
      "    - Pace, R. Kelley and Ronald Barry, Sparse Spatial Autoregressions,\n",
      "      Statistics and Probability Letters, 33 (1997) 291-297\n",
      "\n"
     ]
    }
   ],
   "source": [
    "from sklearn.datasets import fetch_california_housing\n",
    "data = fetch_california_housing()\n",
    "print(data['DESCR'])"
   ]
  },
  {
   "cell_type": "code",
   "execution_count": 15,
   "metadata": {},
   "outputs": [
    {
     "data": {
      "text/html": [
       "<div>\n",
       "<style scoped>\n",
       "    .dataframe tbody tr th:only-of-type {\n",
       "        vertical-align: middle;\n",
       "    }\n",
       "\n",
       "    .dataframe tbody tr th {\n",
       "        vertical-align: top;\n",
       "    }\n",
       "\n",
       "    .dataframe thead th {\n",
       "        text-align: right;\n",
       "    }\n",
       "</style>\n",
       "<table border=\"1\" class=\"dataframe\">\n",
       "  <thead>\n",
       "    <tr style=\"text-align: right;\">\n",
       "      <th></th>\n",
       "      <th>MedInc</th>\n",
       "      <th>HouseAge</th>\n",
       "      <th>AveRooms</th>\n",
       "      <th>AveBedrms</th>\n",
       "      <th>Population</th>\n",
       "      <th>AveOccup</th>\n",
       "      <th>Latitude</th>\n",
       "      <th>Longitude</th>\n",
       "    </tr>\n",
       "  </thead>\n",
       "  <tbody>\n",
       "    <tr>\n",
       "      <th>0</th>\n",
       "      <td>8.3252</td>\n",
       "      <td>41.0</td>\n",
       "      <td>6.984127</td>\n",
       "      <td>1.023810</td>\n",
       "      <td>322.0</td>\n",
       "      <td>2.555556</td>\n",
       "      <td>37.88</td>\n",
       "      <td>-122.23</td>\n",
       "    </tr>\n",
       "    <tr>\n",
       "      <th>1</th>\n",
       "      <td>8.3014</td>\n",
       "      <td>21.0</td>\n",
       "      <td>6.238137</td>\n",
       "      <td>0.971880</td>\n",
       "      <td>2401.0</td>\n",
       "      <td>2.109842</td>\n",
       "      <td>37.86</td>\n",
       "      <td>-122.22</td>\n",
       "    </tr>\n",
       "    <tr>\n",
       "      <th>2</th>\n",
       "      <td>7.2574</td>\n",
       "      <td>52.0</td>\n",
       "      <td>8.288136</td>\n",
       "      <td>1.073446</td>\n",
       "      <td>496.0</td>\n",
       "      <td>2.802260</td>\n",
       "      <td>37.85</td>\n",
       "      <td>-122.24</td>\n",
       "    </tr>\n",
       "    <tr>\n",
       "      <th>3</th>\n",
       "      <td>5.6431</td>\n",
       "      <td>52.0</td>\n",
       "      <td>5.817352</td>\n",
       "      <td>1.073059</td>\n",
       "      <td>558.0</td>\n",
       "      <td>2.547945</td>\n",
       "      <td>37.85</td>\n",
       "      <td>-122.25</td>\n",
       "    </tr>\n",
       "    <tr>\n",
       "      <th>4</th>\n",
       "      <td>3.8462</td>\n",
       "      <td>52.0</td>\n",
       "      <td>6.281853</td>\n",
       "      <td>1.081081</td>\n",
       "      <td>565.0</td>\n",
       "      <td>2.181467</td>\n",
       "      <td>37.85</td>\n",
       "      <td>-122.25</td>\n",
       "    </tr>\n",
       "  </tbody>\n",
       "</table>\n",
       "</div>"
      ],
      "text/plain": [
       "   MedInc  HouseAge  AveRooms  AveBedrms  Population  AveOccup  Latitude  \\\n",
       "0  8.3252      41.0  6.984127   1.023810       322.0  2.555556     37.88   \n",
       "1  8.3014      21.0  6.238137   0.971880      2401.0  2.109842     37.86   \n",
       "2  7.2574      52.0  8.288136   1.073446       496.0  2.802260     37.85   \n",
       "3  5.6431      52.0  5.817352   1.073059       558.0  2.547945     37.85   \n",
       "4  3.8462      52.0  6.281853   1.081081       565.0  2.181467     37.85   \n",
       "\n",
       "   Longitude  \n",
       "0    -122.23  \n",
       "1    -122.22  \n",
       "2    -122.24  \n",
       "3    -122.25  \n",
       "4    -122.25  "
      ]
     },
     "execution_count": 15,
     "metadata": {},
     "output_type": "execute_result"
    }
   ],
   "source": [
    "X = pd.DataFrame(data['data'],columns=data['feature_names'])\n",
    "y = data['target']\n",
    "X.head()"
   ]
  },
  {
   "cell_type": "markdown",
   "metadata": {},
   "source": [
    "# Data preparation"
   ]
  },
  {
   "cell_type": "markdown",
   "metadata": {},
   "source": [
    "### Split your X data in train and test datasets\n",
    "Here is the documentation: https://scikit-learn.org/stable/modules/generated/sklearn.model_selection.train_test_split.html"
   ]
  },
  {
   "cell_type": "code",
   "execution_count": 24,
   "metadata": {},
   "outputs": [],
   "source": [
    "from sklearn.model_selection import train_test_split,KFold,cross_validate\n",
    "from sklearn.linear_model import LinearRegression\n",
    "from sklearn.preprocessing import PolynomialFeatures\n",
    "#\n",
    "# \n",
    "# "
   ]
  },
  {
   "cell_type": "code",
   "execution_count": 37,
   "metadata": {},
   "outputs": [
    {
     "data": {
      "text/html": [
       "<div>\n",
       "<style scoped>\n",
       "    .dataframe tbody tr th:only-of-type {\n",
       "        vertical-align: middle;\n",
       "    }\n",
       "\n",
       "    .dataframe tbody tr th {\n",
       "        vertical-align: top;\n",
       "    }\n",
       "\n",
       "    .dataframe thead th {\n",
       "        text-align: right;\n",
       "    }\n",
       "</style>\n",
       "<table border=\"1\" class=\"dataframe\">\n",
       "  <thead>\n",
       "    <tr style=\"text-align: right;\">\n",
       "      <th></th>\n",
       "      <th>0</th>\n",
       "      <th>1</th>\n",
       "      <th>2</th>\n",
       "      <th>3</th>\n",
       "      <th>4</th>\n",
       "      <th>5</th>\n",
       "      <th>6</th>\n",
       "      <th>7</th>\n",
       "      <th>8</th>\n",
       "      <th>9</th>\n",
       "      <th>...</th>\n",
       "      <th>35</th>\n",
       "      <th>36</th>\n",
       "      <th>37</th>\n",
       "      <th>38</th>\n",
       "      <th>39</th>\n",
       "      <th>40</th>\n",
       "      <th>41</th>\n",
       "      <th>42</th>\n",
       "      <th>43</th>\n",
       "      <th>44</th>\n",
       "    </tr>\n",
       "  </thead>\n",
       "  <tbody>\n",
       "    <tr>\n",
       "      <th>0</th>\n",
       "      <td>1.0</td>\n",
       "      <td>8.3252</td>\n",
       "      <td>41.0</td>\n",
       "      <td>6.984127</td>\n",
       "      <td>1.023810</td>\n",
       "      <td>322.0</td>\n",
       "      <td>2.555556</td>\n",
       "      <td>37.88</td>\n",
       "      <td>-122.23</td>\n",
       "      <td>69.308955</td>\n",
       "      <td>...</td>\n",
       "      <td>103684.0</td>\n",
       "      <td>822.888889</td>\n",
       "      <td>12197.36</td>\n",
       "      <td>-39358.06</td>\n",
       "      <td>6.530864</td>\n",
       "      <td>96.804444</td>\n",
       "      <td>-312.365556</td>\n",
       "      <td>1434.8944</td>\n",
       "      <td>-4630.0724</td>\n",
       "      <td>14940.1729</td>\n",
       "    </tr>\n",
       "    <tr>\n",
       "      <th>1</th>\n",
       "      <td>1.0</td>\n",
       "      <td>8.3014</td>\n",
       "      <td>21.0</td>\n",
       "      <td>6.238137</td>\n",
       "      <td>0.971880</td>\n",
       "      <td>2401.0</td>\n",
       "      <td>2.109842</td>\n",
       "      <td>37.86</td>\n",
       "      <td>-122.22</td>\n",
       "      <td>68.913242</td>\n",
       "      <td>...</td>\n",
       "      <td>5764801.0</td>\n",
       "      <td>5065.730228</td>\n",
       "      <td>90901.86</td>\n",
       "      <td>-293450.22</td>\n",
       "      <td>4.451433</td>\n",
       "      <td>79.878612</td>\n",
       "      <td>-257.864868</td>\n",
       "      <td>1433.3796</td>\n",
       "      <td>-4627.2492</td>\n",
       "      <td>14937.7284</td>\n",
       "    </tr>\n",
       "    <tr>\n",
       "      <th>2</th>\n",
       "      <td>1.0</td>\n",
       "      <td>7.2574</td>\n",
       "      <td>52.0</td>\n",
       "      <td>8.288136</td>\n",
       "      <td>1.073446</td>\n",
       "      <td>496.0</td>\n",
       "      <td>2.802260</td>\n",
       "      <td>37.85</td>\n",
       "      <td>-122.24</td>\n",
       "      <td>52.669855</td>\n",
       "      <td>...</td>\n",
       "      <td>246016.0</td>\n",
       "      <td>1389.920904</td>\n",
       "      <td>18773.60</td>\n",
       "      <td>-60631.04</td>\n",
       "      <td>7.852660</td>\n",
       "      <td>106.065537</td>\n",
       "      <td>-342.548249</td>\n",
       "      <td>1432.6225</td>\n",
       "      <td>-4626.7840</td>\n",
       "      <td>14942.6176</td>\n",
       "    </tr>\n",
       "    <tr>\n",
       "      <th>3</th>\n",
       "      <td>1.0</td>\n",
       "      <td>5.6431</td>\n",
       "      <td>52.0</td>\n",
       "      <td>5.817352</td>\n",
       "      <td>1.073059</td>\n",
       "      <td>558.0</td>\n",
       "      <td>2.547945</td>\n",
       "      <td>37.85</td>\n",
       "      <td>-122.25</td>\n",
       "      <td>31.844578</td>\n",
       "      <td>...</td>\n",
       "      <td>311364.0</td>\n",
       "      <td>1421.753425</td>\n",
       "      <td>21120.30</td>\n",
       "      <td>-68215.50</td>\n",
       "      <td>6.492025</td>\n",
       "      <td>96.439726</td>\n",
       "      <td>-311.486301</td>\n",
       "      <td>1432.6225</td>\n",
       "      <td>-4627.1625</td>\n",
       "      <td>14945.0625</td>\n",
       "    </tr>\n",
       "    <tr>\n",
       "      <th>4</th>\n",
       "      <td>1.0</td>\n",
       "      <td>3.8462</td>\n",
       "      <td>52.0</td>\n",
       "      <td>6.281853</td>\n",
       "      <td>1.081081</td>\n",
       "      <td>565.0</td>\n",
       "      <td>2.181467</td>\n",
       "      <td>37.85</td>\n",
       "      <td>-122.25</td>\n",
       "      <td>14.793254</td>\n",
       "      <td>...</td>\n",
       "      <td>319225.0</td>\n",
       "      <td>1232.528958</td>\n",
       "      <td>21385.25</td>\n",
       "      <td>-69071.25</td>\n",
       "      <td>4.758799</td>\n",
       "      <td>82.568533</td>\n",
       "      <td>-266.684363</td>\n",
       "      <td>1432.6225</td>\n",
       "      <td>-4627.1625</td>\n",
       "      <td>14945.0625</td>\n",
       "    </tr>\n",
       "  </tbody>\n",
       "</table>\n",
       "<p>5 rows × 45 columns</p>\n",
       "</div>"
      ],
      "text/plain": [
       "    0       1     2         3         4       5         6      7       8   \\\n",
       "0  1.0  8.3252  41.0  6.984127  1.023810   322.0  2.555556  37.88 -122.23   \n",
       "1  1.0  8.3014  21.0  6.238137  0.971880  2401.0  2.109842  37.86 -122.22   \n",
       "2  1.0  7.2574  52.0  8.288136  1.073446   496.0  2.802260  37.85 -122.24   \n",
       "3  1.0  5.6431  52.0  5.817352  1.073059   558.0  2.547945  37.85 -122.25   \n",
       "4  1.0  3.8462  52.0  6.281853  1.081081   565.0  2.181467  37.85 -122.25   \n",
       "\n",
       "          9      ...             35           36        37         38  \\\n",
       "0  69.308955     ...       103684.0   822.888889  12197.36  -39358.06   \n",
       "1  68.913242     ...      5764801.0  5065.730228  90901.86 -293450.22   \n",
       "2  52.669855     ...       246016.0  1389.920904  18773.60  -60631.04   \n",
       "3  31.844578     ...       311364.0  1421.753425  21120.30  -68215.50   \n",
       "4  14.793254     ...       319225.0  1232.528958  21385.25  -69071.25   \n",
       "\n",
       "         39          40          41         42         43          44  \n",
       "0  6.530864   96.804444 -312.365556  1434.8944 -4630.0724  14940.1729  \n",
       "1  4.451433   79.878612 -257.864868  1433.3796 -4627.2492  14937.7284  \n",
       "2  7.852660  106.065537 -342.548249  1432.6225 -4626.7840  14942.6176  \n",
       "3  6.492025   96.439726 -311.486301  1432.6225 -4627.1625  14945.0625  \n",
       "4  4.758799   82.568533 -266.684363  1432.6225 -4627.1625  14945.0625  \n",
       "\n",
       "[5 rows x 45 columns]"
      ]
     },
     "execution_count": 37,
     "metadata": {},
     "output_type": "execute_result"
    }
   ],
   "source": [
    "poly = PolynomialFeatures(2)\n",
    "poly.fit(X);\n",
    "X_poly = pd.DataFrame(poly.transform(X))\n",
    "X_poly.head()"
   ]
  },
  {
   "cell_type": "code",
   "execution_count": 38,
   "metadata": {},
   "outputs": [
    {
     "data": {
      "text/plain": [
       "(20640, 45)"
      ]
     },
     "execution_count": 38,
     "metadata": {},
     "output_type": "execute_result"
    }
   ],
   "source": [
    "X_poly.shape"
   ]
  },
  {
   "cell_type": "code",
   "execution_count": 40,
   "metadata": {},
   "outputs": [],
   "source": [
    "cols = poly.get_feature_names(X.columns)"
   ]
  },
  {
   "cell_type": "code",
   "execution_count": 41,
   "metadata": {},
   "outputs": [
    {
     "data": {
      "text/html": [
       "<div>\n",
       "<style scoped>\n",
       "    .dataframe tbody tr th:only-of-type {\n",
       "        vertical-align: middle;\n",
       "    }\n",
       "\n",
       "    .dataframe tbody tr th {\n",
       "        vertical-align: top;\n",
       "    }\n",
       "\n",
       "    .dataframe thead th {\n",
       "        text-align: right;\n",
       "    }\n",
       "</style>\n",
       "<table border=\"1\" class=\"dataframe\">\n",
       "  <thead>\n",
       "    <tr style=\"text-align: right;\">\n",
       "      <th></th>\n",
       "      <th>1</th>\n",
       "      <th>MedInc</th>\n",
       "      <th>HouseAge</th>\n",
       "      <th>AveRooms</th>\n",
       "      <th>AveBedrms</th>\n",
       "      <th>Population</th>\n",
       "      <th>AveOccup</th>\n",
       "      <th>Latitude</th>\n",
       "      <th>Longitude</th>\n",
       "      <th>MedInc^2</th>\n",
       "      <th>...</th>\n",
       "      <th>Population^2</th>\n",
       "      <th>Population AveOccup</th>\n",
       "      <th>Population Latitude</th>\n",
       "      <th>Population Longitude</th>\n",
       "      <th>AveOccup^2</th>\n",
       "      <th>AveOccup Latitude</th>\n",
       "      <th>AveOccup Longitude</th>\n",
       "      <th>Latitude^2</th>\n",
       "      <th>Latitude Longitude</th>\n",
       "      <th>Longitude^2</th>\n",
       "    </tr>\n",
       "  </thead>\n",
       "  <tbody>\n",
       "    <tr>\n",
       "      <th>0</th>\n",
       "      <td>1.0</td>\n",
       "      <td>8.3252</td>\n",
       "      <td>41.0</td>\n",
       "      <td>6.984127</td>\n",
       "      <td>1.023810</td>\n",
       "      <td>322.0</td>\n",
       "      <td>2.555556</td>\n",
       "      <td>37.88</td>\n",
       "      <td>-122.23</td>\n",
       "      <td>69.308955</td>\n",
       "      <td>...</td>\n",
       "      <td>103684.0</td>\n",
       "      <td>822.888889</td>\n",
       "      <td>12197.36</td>\n",
       "      <td>-39358.06</td>\n",
       "      <td>6.530864</td>\n",
       "      <td>96.804444</td>\n",
       "      <td>-312.365556</td>\n",
       "      <td>1434.8944</td>\n",
       "      <td>-4630.0724</td>\n",
       "      <td>14940.1729</td>\n",
       "    </tr>\n",
       "    <tr>\n",
       "      <th>1</th>\n",
       "      <td>1.0</td>\n",
       "      <td>8.3014</td>\n",
       "      <td>21.0</td>\n",
       "      <td>6.238137</td>\n",
       "      <td>0.971880</td>\n",
       "      <td>2401.0</td>\n",
       "      <td>2.109842</td>\n",
       "      <td>37.86</td>\n",
       "      <td>-122.22</td>\n",
       "      <td>68.913242</td>\n",
       "      <td>...</td>\n",
       "      <td>5764801.0</td>\n",
       "      <td>5065.730228</td>\n",
       "      <td>90901.86</td>\n",
       "      <td>-293450.22</td>\n",
       "      <td>4.451433</td>\n",
       "      <td>79.878612</td>\n",
       "      <td>-257.864868</td>\n",
       "      <td>1433.3796</td>\n",
       "      <td>-4627.2492</td>\n",
       "      <td>14937.7284</td>\n",
       "    </tr>\n",
       "    <tr>\n",
       "      <th>2</th>\n",
       "      <td>1.0</td>\n",
       "      <td>7.2574</td>\n",
       "      <td>52.0</td>\n",
       "      <td>8.288136</td>\n",
       "      <td>1.073446</td>\n",
       "      <td>496.0</td>\n",
       "      <td>2.802260</td>\n",
       "      <td>37.85</td>\n",
       "      <td>-122.24</td>\n",
       "      <td>52.669855</td>\n",
       "      <td>...</td>\n",
       "      <td>246016.0</td>\n",
       "      <td>1389.920904</td>\n",
       "      <td>18773.60</td>\n",
       "      <td>-60631.04</td>\n",
       "      <td>7.852660</td>\n",
       "      <td>106.065537</td>\n",
       "      <td>-342.548249</td>\n",
       "      <td>1432.6225</td>\n",
       "      <td>-4626.7840</td>\n",
       "      <td>14942.6176</td>\n",
       "    </tr>\n",
       "    <tr>\n",
       "      <th>3</th>\n",
       "      <td>1.0</td>\n",
       "      <td>5.6431</td>\n",
       "      <td>52.0</td>\n",
       "      <td>5.817352</td>\n",
       "      <td>1.073059</td>\n",
       "      <td>558.0</td>\n",
       "      <td>2.547945</td>\n",
       "      <td>37.85</td>\n",
       "      <td>-122.25</td>\n",
       "      <td>31.844578</td>\n",
       "      <td>...</td>\n",
       "      <td>311364.0</td>\n",
       "      <td>1421.753425</td>\n",
       "      <td>21120.30</td>\n",
       "      <td>-68215.50</td>\n",
       "      <td>6.492025</td>\n",
       "      <td>96.439726</td>\n",
       "      <td>-311.486301</td>\n",
       "      <td>1432.6225</td>\n",
       "      <td>-4627.1625</td>\n",
       "      <td>14945.0625</td>\n",
       "    </tr>\n",
       "    <tr>\n",
       "      <th>4</th>\n",
       "      <td>1.0</td>\n",
       "      <td>3.8462</td>\n",
       "      <td>52.0</td>\n",
       "      <td>6.281853</td>\n",
       "      <td>1.081081</td>\n",
       "      <td>565.0</td>\n",
       "      <td>2.181467</td>\n",
       "      <td>37.85</td>\n",
       "      <td>-122.25</td>\n",
       "      <td>14.793254</td>\n",
       "      <td>...</td>\n",
       "      <td>319225.0</td>\n",
       "      <td>1232.528958</td>\n",
       "      <td>21385.25</td>\n",
       "      <td>-69071.25</td>\n",
       "      <td>4.758799</td>\n",
       "      <td>82.568533</td>\n",
       "      <td>-266.684363</td>\n",
       "      <td>1432.6225</td>\n",
       "      <td>-4627.1625</td>\n",
       "      <td>14945.0625</td>\n",
       "    </tr>\n",
       "  </tbody>\n",
       "</table>\n",
       "<p>5 rows × 45 columns</p>\n",
       "</div>"
      ],
      "text/plain": [
       "     1  MedInc  HouseAge  AveRooms  AveBedrms  Population  AveOccup  Latitude  \\\n",
       "0  1.0  8.3252      41.0  6.984127   1.023810       322.0  2.555556     37.88   \n",
       "1  1.0  8.3014      21.0  6.238137   0.971880      2401.0  2.109842     37.86   \n",
       "2  1.0  7.2574      52.0  8.288136   1.073446       496.0  2.802260     37.85   \n",
       "3  1.0  5.6431      52.0  5.817352   1.073059       558.0  2.547945     37.85   \n",
       "4  1.0  3.8462      52.0  6.281853   1.081081       565.0  2.181467     37.85   \n",
       "\n",
       "   Longitude   MedInc^2     ...       Population^2  Population AveOccup  \\\n",
       "0    -122.23  69.308955     ...           103684.0           822.888889   \n",
       "1    -122.22  68.913242     ...          5764801.0          5065.730228   \n",
       "2    -122.24  52.669855     ...           246016.0          1389.920904   \n",
       "3    -122.25  31.844578     ...           311364.0          1421.753425   \n",
       "4    -122.25  14.793254     ...           319225.0          1232.528958   \n",
       "\n",
       "   Population Latitude  Population Longitude  AveOccup^2  AveOccup Latitude  \\\n",
       "0             12197.36             -39358.06    6.530864          96.804444   \n",
       "1             90901.86            -293450.22    4.451433          79.878612   \n",
       "2             18773.60             -60631.04    7.852660         106.065537   \n",
       "3             21120.30             -68215.50    6.492025          96.439726   \n",
       "4             21385.25             -69071.25    4.758799          82.568533   \n",
       "\n",
       "   AveOccup Longitude  Latitude^2  Latitude Longitude  Longitude^2  \n",
       "0         -312.365556   1434.8944          -4630.0724   14940.1729  \n",
       "1         -257.864868   1433.3796          -4627.2492   14937.7284  \n",
       "2         -342.548249   1432.6225          -4626.7840   14942.6176  \n",
       "3         -311.486301   1432.6225          -4627.1625   14945.0625  \n",
       "4         -266.684363   1432.6225          -4627.1625   14945.0625  \n",
       "\n",
       "[5 rows x 45 columns]"
      ]
     },
     "execution_count": 41,
     "metadata": {},
     "output_type": "execute_result"
    }
   ],
   "source": [
    "X_poly.columns = cols\n",
    "X_poly.head()\n",
    "#boom"
   ]
  },
  {
   "cell_type": "markdown",
   "metadata": {},
   "source": [
    "### Split your train data in train and validation datasets"
   ]
  },
  {
   "cell_type": "code",
   "execution_count": 76,
   "metadata": {},
   "outputs": [],
   "source": [
    "from sklearn.model_selection import train_test_split\n",
    "#Training dataset\n",
    "X_train, X_test, y_train, y_test = train_test_split(X_poly,y,test_size=(round(20640*0.2)), random_state=80)\n",
    "#Validation dataset\n",
    "X_val_train, X_val, y_val_train, y_val = train_test_split(X_train,y_train,test_size=1000, random_state=25)\n",
    "# \n",
    "# \n",
    "# "
   ]
  },
  {
   "cell_type": "markdown",
   "metadata": {},
   "source": [
    "### Scale the 3 datasets using StandardScaler"
   ]
  },
  {
   "cell_type": "code",
   "execution_count": 77,
   "metadata": {},
   "outputs": [],
   "source": [
    "from sklearn.preprocessing import StandardScaler \n",
    "scaler = StandardScaler()\n",
    "# \n",
    "# \n",
    "# "
   ]
  },
  {
   "cell_type": "code",
   "execution_count": 78,
   "metadata": {},
   "outputs": [],
   "source": [
    "scaler.fit(X_val_train)\n",
    "\n",
    "X_val_train = scaler.transform(X_val_train)\n",
    "X_val = scaler.transform(X_val)\n",
    "\n",
    "X_train = scaler.transform(X_train)\n",
    "X_test = scaler.transform(X_test)"
   ]
  },
  {
   "cell_type": "code",
   "execution_count": 79,
   "metadata": {},
   "outputs": [],
   "source": [
    "X_val_train = pd.DataFrame(X_val_train, columns = poly.get_feature_names(X.columns))"
   ]
  },
  {
   "cell_type": "code",
   "execution_count": 80,
   "metadata": {},
   "outputs": [
    {
     "data": {
      "text/html": [
       "<div>\n",
       "<style scoped>\n",
       "    .dataframe tbody tr th:only-of-type {\n",
       "        vertical-align: middle;\n",
       "    }\n",
       "\n",
       "    .dataframe tbody tr th {\n",
       "        vertical-align: top;\n",
       "    }\n",
       "\n",
       "    .dataframe thead th {\n",
       "        text-align: right;\n",
       "    }\n",
       "</style>\n",
       "<table border=\"1\" class=\"dataframe\">\n",
       "  <thead>\n",
       "    <tr style=\"text-align: right;\">\n",
       "      <th></th>\n",
       "      <th>1</th>\n",
       "      <th>MedInc</th>\n",
       "      <th>HouseAge</th>\n",
       "      <th>AveRooms</th>\n",
       "      <th>AveBedrms</th>\n",
       "      <th>Population</th>\n",
       "      <th>AveOccup</th>\n",
       "      <th>Latitude</th>\n",
       "      <th>Longitude</th>\n",
       "      <th>MedInc^2</th>\n",
       "      <th>...</th>\n",
       "      <th>Population^2</th>\n",
       "      <th>Population AveOccup</th>\n",
       "      <th>Population Latitude</th>\n",
       "      <th>Population Longitude</th>\n",
       "      <th>AveOccup^2</th>\n",
       "      <th>AveOccup Latitude</th>\n",
       "      <th>AveOccup Longitude</th>\n",
       "      <th>Latitude^2</th>\n",
       "      <th>Latitude Longitude</th>\n",
       "      <th>Longitude^2</th>\n",
       "    </tr>\n",
       "  </thead>\n",
       "  <tbody>\n",
       "    <tr>\n",
       "      <th>0</th>\n",
       "      <td>0.0</td>\n",
       "      <td>0.126976</td>\n",
       "      <td>0.107491</td>\n",
       "      <td>-0.551016</td>\n",
       "      <td>-0.102134</td>\n",
       "      <td>-0.204891</td>\n",
       "      <td>-0.073624</td>\n",
       "      <td>-0.710911</td>\n",
       "      <td>0.753792</td>\n",
       "      <td>-0.077742</td>\n",
       "      <td>...</td>\n",
       "      <td>-0.134692</td>\n",
       "      <td>-0.033172</td>\n",
       "      <td>-0.245323</td>\n",
       "      <td>0.217108</td>\n",
       "      <td>-0.010313</td>\n",
       "      <td>-0.076043</td>\n",
       "      <td>0.074823</td>\n",
       "      <td>-0.715473</td>\n",
       "      <td>0.731784</td>\n",
       "      <td>-0.755499</td>\n",
       "    </tr>\n",
       "    <tr>\n",
       "      <th>1</th>\n",
       "      <td>0.0</td>\n",
       "      <td>-0.769432</td>\n",
       "      <td>0.346808</td>\n",
       "      <td>-0.065027</td>\n",
       "      <td>-0.080233</td>\n",
       "      <td>0.323691</td>\n",
       "      <td>-0.012583</td>\n",
       "      <td>-0.022832</td>\n",
       "      <td>0.118671</td>\n",
       "      <td>-0.578656</td>\n",
       "      <td>...</td>\n",
       "      <td>-0.009046</td>\n",
       "      <td>0.000320</td>\n",
       "      <td>0.332541</td>\n",
       "      <td>-0.323761</td>\n",
       "      <td>-0.010034</td>\n",
       "      <td>-0.012307</td>\n",
       "      <td>0.012862</td>\n",
       "      <td>-0.052042</td>\n",
       "      <td>0.056285</td>\n",
       "      <td>-0.126596</td>\n",
       "    </tr>\n",
       "    <tr>\n",
       "      <th>2</th>\n",
       "      <td>0.0</td>\n",
       "      <td>-0.642803</td>\n",
       "      <td>0.825442</td>\n",
       "      <td>-0.026264</td>\n",
       "      <td>-0.122567</td>\n",
       "      <td>-0.038151</td>\n",
       "      <td>-0.077962</td>\n",
       "      <td>1.095882</td>\n",
       "      <td>-0.861515</td>\n",
       "      <td>-0.523959</td>\n",
       "      <td>...</td>\n",
       "      <td>-0.100614</td>\n",
       "      <td>-0.028477</td>\n",
       "      <td>0.047409</td>\n",
       "      <td>0.019355</td>\n",
       "      <td>-0.010330</td>\n",
       "      <td>-0.060400</td>\n",
       "      <td>0.073853</td>\n",
       "      <td>1.086322</td>\n",
       "      <td>-1.054293</td>\n",
       "      <td>0.857200</td>\n",
       "    </tr>\n",
       "    <tr>\n",
       "      <th>3</th>\n",
       "      <td>0.0</td>\n",
       "      <td>0.079086</td>\n",
       "      <td>1.862481</td>\n",
       "      <td>-0.101219</td>\n",
       "      <td>-0.009745</td>\n",
       "      <td>-0.476488</td>\n",
       "      <td>-0.105235</td>\n",
       "      <td>-0.738996</td>\n",
       "      <td>0.603763</td>\n",
       "      <td>-0.111200</td>\n",
       "      <td>...</td>\n",
       "      <td>-0.179237</td>\n",
       "      <td>-0.046216</td>\n",
       "      <td>-0.510133</td>\n",
       "      <td>0.484593</td>\n",
       "      <td>-0.010429</td>\n",
       "      <td>-0.104184</td>\n",
       "      <td>0.105088</td>\n",
       "      <td>-0.741957</td>\n",
       "      <td>0.722108</td>\n",
       "      <td>-0.607546</td>\n",
       "    </tr>\n",
       "    <tr>\n",
       "      <th>4</th>\n",
       "      <td>0.0</td>\n",
       "      <td>-0.393453</td>\n",
       "      <td>1.304075</td>\n",
       "      <td>-0.738476</td>\n",
       "      <td>0.039200</td>\n",
       "      <td>-0.331235</td>\n",
       "      <td>-0.112683</td>\n",
       "      <td>-0.874740</td>\n",
       "      <td>0.703782</td>\n",
       "      <td>-0.400805</td>\n",
       "      <td>...</td>\n",
       "      <td>-0.157104</td>\n",
       "      <td>-0.043260</td>\n",
       "      <td>-0.376867</td>\n",
       "      <td>0.341668</td>\n",
       "      <td>-0.010453</td>\n",
       "      <td>-0.111944</td>\n",
       "      <td>0.112598</td>\n",
       "      <td>-0.869308</td>\n",
       "      <td>0.848960</td>\n",
       "      <td>-0.706223</td>\n",
       "    </tr>\n",
       "  </tbody>\n",
       "</table>\n",
       "<p>5 rows × 45 columns</p>\n",
       "</div>"
      ],
      "text/plain": [
       "     1    MedInc  HouseAge  AveRooms  AveBedrms  Population  AveOccup  \\\n",
       "0  0.0  0.126976  0.107491 -0.551016  -0.102134   -0.204891 -0.073624   \n",
       "1  0.0 -0.769432  0.346808 -0.065027  -0.080233    0.323691 -0.012583   \n",
       "2  0.0 -0.642803  0.825442 -0.026264  -0.122567   -0.038151 -0.077962   \n",
       "3  0.0  0.079086  1.862481 -0.101219  -0.009745   -0.476488 -0.105235   \n",
       "4  0.0 -0.393453  1.304075 -0.738476   0.039200   -0.331235 -0.112683   \n",
       "\n",
       "   Latitude  Longitude  MedInc^2     ...       Population^2  \\\n",
       "0 -0.710911   0.753792 -0.077742     ...          -0.134692   \n",
       "1 -0.022832   0.118671 -0.578656     ...          -0.009046   \n",
       "2  1.095882  -0.861515 -0.523959     ...          -0.100614   \n",
       "3 -0.738996   0.603763 -0.111200     ...          -0.179237   \n",
       "4 -0.874740   0.703782 -0.400805     ...          -0.157104   \n",
       "\n",
       "   Population AveOccup  Population Latitude  Population Longitude  AveOccup^2  \\\n",
       "0            -0.033172            -0.245323              0.217108   -0.010313   \n",
       "1             0.000320             0.332541             -0.323761   -0.010034   \n",
       "2            -0.028477             0.047409              0.019355   -0.010330   \n",
       "3            -0.046216            -0.510133              0.484593   -0.010429   \n",
       "4            -0.043260            -0.376867              0.341668   -0.010453   \n",
       "\n",
       "   AveOccup Latitude  AveOccup Longitude  Latitude^2  Latitude Longitude  \\\n",
       "0          -0.076043            0.074823   -0.715473            0.731784   \n",
       "1          -0.012307            0.012862   -0.052042            0.056285   \n",
       "2          -0.060400            0.073853    1.086322           -1.054293   \n",
       "3          -0.104184            0.105088   -0.741957            0.722108   \n",
       "4          -0.111944            0.112598   -0.869308            0.848960   \n",
       "\n",
       "   Longitude^2  \n",
       "0    -0.755499  \n",
       "1    -0.126596  \n",
       "2     0.857200  \n",
       "3    -0.607546  \n",
       "4    -0.706223  \n",
       "\n",
       "[5 rows x 45 columns]"
      ]
     },
     "execution_count": 80,
     "metadata": {},
     "output_type": "execute_result"
    }
   ],
   "source": [
    "X_val_train.head()"
   ]
  },
  {
   "cell_type": "markdown",
   "metadata": {},
   "source": [
    "# Modelling and Model Evaluation"
   ]
  },
  {
   "cell_type": "markdown",
   "metadata": {},
   "source": [
    "### Train a linear regression model"
   ]
  },
  {
   "cell_type": "code",
   "execution_count": 121,
   "metadata": {},
   "outputs": [],
   "source": [
    "from sklearn.linear_model import LinearRegression\n",
    "lin_reg = LinearRegression()\n",
    "# \n",
    "# \n",
    "# "
   ]
  },
  {
   "cell_type": "code",
   "execution_count": 122,
   "metadata": {},
   "outputs": [
    {
     "data": {
      "text/plain": [
       "0.6921783325232995"
      ]
     },
     "execution_count": 122,
     "metadata": {},
     "output_type": "execute_result"
    }
   ],
   "source": [
    "lin_reg.fit(X_val_train, y_val_train)\n",
    "trained = lin_reg.score(X_val_train, y_val_train)\n",
    "trained"
   ]
  },
  {
   "cell_type": "code",
   "execution_count": 123,
   "metadata": {},
   "outputs": [
    {
     "data": {
      "text/plain": [
       "array([-4.85519625e-14, -2.28305157e+01, -1.04282296e+01,  1.72421178e+01])"
      ]
     },
     "execution_count": 123,
     "metadata": {},
     "output_type": "execute_result"
    }
   ],
   "source": [
    "val_coef = lin_reg.coef_[0:4]\n",
    "val_coef"
   ]
  },
  {
   "cell_type": "code",
   "execution_count": 124,
   "metadata": {},
   "outputs": [
    {
     "data": {
      "text/plain": [
       "0.7528004149933573"
      ]
     },
     "execution_count": 124,
     "metadata": {},
     "output_type": "execute_result"
    }
   ],
   "source": [
    "lin_reg.fit(X_val, y_val)\n",
    "tested = lin_reg.score(X_val,y_val)\n",
    "tested\n"
   ]
  },
  {
   "cell_type": "code",
   "execution_count": 125,
   "metadata": {},
   "outputs": [
    {
     "data": {
      "text/plain": [
       "array([ 2.25845109e-11, -2.02724704e+01, -1.51535581e+01,  1.19705633e+01])"
      ]
     },
     "execution_count": 125,
     "metadata": {},
     "output_type": "execute_result"
    }
   ],
   "source": [
    "test_coef = lin_reg.coef_[0:4]\n",
    "test_coef"
   ]
  },
  {
   "cell_type": "code",
   "execution_count": null,
   "metadata": {},
   "outputs": [],
   "source": [
    "# I got quite lost among these coefficients. "
   ]
  },
  {
   "cell_type": "markdown",
   "metadata": {},
   "source": [
    "### Measure the R-squared, MSE and MAE of your model\n",
    "Here is the documentation: https://scikit-learn.org/stable/modules/model_evaluation.html#regression-metrics"
   ]
  },
  {
   "cell_type": "code",
   "execution_count": 130,
   "metadata": {},
   "outputs": [
    {
     "name": "stdout",
     "output_type": "stream",
     "text": [
      "14.165402911107657 3.1387320637525327 0.9123371153102118\n"
     ]
    }
   ],
   "source": [
    "from sklearn.metrics import r2_score, mean_squared_error, mean_absolute_error\n",
    "print(mean_squared_error(test_coef, val_coef), mean_absolute_error(test_coef, val_coef), r2_score(test_coef, val_coef))\n",
    "# \n",
    "# \n",
    "# \n",
    "# \n",
    "# "
   ]
  },
  {
   "cell_type": "markdown",
   "metadata": {},
   "source": [
    "### Train a LASSO model"
   ]
  },
  {
   "cell_type": "code",
   "execution_count": 127,
   "metadata": {},
   "outputs": [
    {
     "name": "stderr",
     "output_type": "stream",
     "text": [
      "/opt/anaconda3/envs/learn-env/lib/python3.6/site-packages/sklearn/linear_model/coordinate_descent.py:492: ConvergenceWarning: Objective did not converge. You might want to increase the number of iterations. Fitting data with very small alpha may cause precision problems.\n",
      "  ConvergenceWarning)\n"
     ]
    },
    {
     "data": {
      "text/plain": [
       "0.6147960792739541"
      ]
     },
     "execution_count": 127,
     "metadata": {},
     "output_type": "execute_result"
    }
   ],
   "source": [
    "from sklearn.linear_model import Lasso\n",
    "lasso = Lasso(.01)\n",
    "lasso.fit(X_val_train, y_val_train)\n",
    "lasso.score(X_val_train, y_val_train)\n",
    "# \n",
    "# \n",
    "# "
   ]
  },
  {
   "cell_type": "code",
   "execution_count": 131,
   "metadata": {},
   "outputs": [
    {
     "data": {
      "text/plain": [
       "array([ 0.        ,  0.37344992,  0.        , -0.04229307])"
      ]
     },
     "execution_count": 131,
     "metadata": {},
     "output_type": "execute_result"
    }
   ],
   "source": [
    "lasso = lasso.coef_[:4]\n",
    "lasso"
   ]
  },
  {
   "cell_type": "markdown",
   "metadata": {},
   "source": [
    "### Measure the R-squared, MSE and MAE of your model"
   ]
  },
  {
   "cell_type": "code",
   "execution_count": 132,
   "metadata": {},
   "outputs": [
    {
     "name": "stdout",
     "output_type": "stream",
     "text": [
      "200.0482671839004 11.953083710516356 -0.23800277963028504\n"
     ]
    }
   ],
   "source": [
    "print(mean_squared_error(test_coef, lasso), mean_absolute_error(test_coef, lasso), r2_score(test_coef, lasso))\n",
    "# \n",
    "# \n",
    "# \n",
    "# "
   ]
  },
  {
   "cell_type": "markdown",
   "metadata": {},
   "source": [
    "# Interprete your winning model"
   ]
  },
  {
   "cell_type": "markdown",
   "metadata": {},
   "source": [
    "### What can you tell your business partner by looking at the coefficients?"
   ]
  },
  {
   "cell_type": "code",
   "execution_count": 133,
   "metadata": {},
   "outputs": [],
   "source": [
    "# I do not believe I have achieved victory. \n",
    "# In my original model I had an unrealistic R2 number ~0.9\n",
    "# In my lasso model I have a negative R2 number which essentially means my final model fits worse than a horizontal line!\n",
    "# I would not be able to see my business partner about these findings!!\n",
    "# \n",
    "# "
   ]
  },
  {
   "cell_type": "code",
   "execution_count": null,
   "metadata": {},
   "outputs": [],
   "source": []
  }
 ],
 "metadata": {
  "kernelspec": {
   "display_name": "Python [conda env:learn-env] *",
   "language": "python",
   "name": "conda-env-learn-env-py"
  },
  "language_info": {
   "codemirror_mode": {
    "name": "ipython",
    "version": 3
   },
   "file_extension": ".py",
   "mimetype": "text/x-python",
   "name": "python",
   "nbconvert_exporter": "python",
   "pygments_lexer": "ipython3",
   "version": "3.6.6"
  }
 },
 "nbformat": 4,
 "nbformat_minor": 2
}
